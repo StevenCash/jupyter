{
 "cells": [
  {
   "cell_type": "code",
   "execution_count": 4,
   "metadata": {},
   "outputs": [
    {
     "name": "stdout",
     "output_type": "stream",
     "text": [
      "0.003518293254649585 42\n",
      "0.011583523164299114 185\n",
      "0.013381672737807548 25\n",
      "0.021526222481080493 60\n",
      "0.02714415943799342 17\n",
      "0.031754298094183064 146\n",
      "0.03382571239709797 65\n",
      "0.046315475078779755 83\n",
      "0.04771595408209017 63\n",
      "0.05487691629625102 127\n"
     ]
    }
   ],
   "source": [
    "#Randomizer experiment\n",
    "#The goal is to have a list of n items, and to be able to order them randomly\n",
    "#My plan is to create a list of N random numbers, use the list index as the item\n",
    "#number, and then use a sorting algorithm to pick the items from smallest random\n",
    "#number to largest rather than by using their index.\n",
    "\n",
    "from random import random\n",
    "\n",
    "#list length\n",
    "N = 200\n",
    "\n",
    "itemlist = []\n",
    "\n",
    "i = 0\n",
    "while i < N:\n",
    "    itemlist.append(random())\n",
    "    i += 1\n",
    "\n",
    "#print(itemlist)\n",
    "    \n",
    "#Ok, have a list of random numbers, now must pick some number M items using sort\n",
    "#I will use a selection sort, but instead of building a new sorted array I will\n",
    "#simply toss the minimum value as it is no longer needed\n",
    "\n",
    "#number of items to pick\n",
    "M = 10\n",
    "\n",
    "i = 0\n",
    "j = 0\n",
    "pick = 0\n",
    "while i < M:\n",
    "    pick = itemlist[0]\n",
    "    pickindex = 0\n",
    "    j = 0\n",
    "    while j < len(itemlist):\n",
    "        if(itemlist[j] < pick):\n",
    "            pick = itemlist[j]\n",
    "            pickindex = j\n",
    "        j += 1\n",
    "    print(itemlist[pickindex],pickindex)\n",
    "    del itemlist[pickindex]\n",
    "    i += 1\n",
    "\n",
    "#That should do it\n",
    "        \n",
    "        "
   ]
  },
  {
   "cell_type": "code",
   "execution_count": null,
   "metadata": {},
   "outputs": [],
   "source": []
  }
 ],
 "metadata": {
  "kernelspec": {
   "display_name": "Python 3",
   "language": "python",
   "name": "python3"
  },
  "language_info": {
   "codemirror_mode": {
    "name": "ipython",
    "version": 3
   },
   "file_extension": ".py",
   "mimetype": "text/x-python",
   "name": "python",
   "nbconvert_exporter": "python",
   "pygments_lexer": "ipython3",
   "version": "3.7.4"
  }
 },
 "nbformat": 4,
 "nbformat_minor": 2
}
